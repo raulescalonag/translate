{
 "cells": [
  {
   "cell_type": "markdown",
   "metadata": {},
   "source": [
    "### Importar librerias"
   ]
  },
  {
   "cell_type": "code",
   "execution_count": 1,
   "metadata": {},
   "outputs": [],
   "source": [
    "import pandas as pd\n",
    "\n",
    "#Transcribe\n",
    "import speech_recognition as sr  \n",
    "\n",
    "#Traslate\n",
    "import googletrans\n",
    "from googletrans import Translator\n",
    "#print(googletrans.LANGUAGES)"
   ]
  },
  {
   "cell_type": "markdown",
   "metadata": {},
   "source": [
    "### Transcribe y Traduce"
   ]
  },
  {
   "cell_type": "code",
   "execution_count": 6,
   "metadata": {},
   "outputs": [
    {
     "name": "stdout",
     "output_type": "stream",
     "text": [
      "Speak:\n",
      "You said: we offer you hear some texts embarrass interesting subject\n",
      "ofrecemos que escuche algunos textos Embarrass tema interesante\n"
     ]
    }
   ],
   "source": [
    "translator = Translator()\n",
    "\n",
    "\n",
    "# get audio from the microphone                                                                       \n",
    "r = sr.Recognizer()                                                                                   \n",
    "with sr.Microphone() as source:                                                                       \n",
    "    print(\"Speak:\")                                                                                   \n",
    "    audio = r.listen(source)   \n",
    "\n",
    "    try:\n",
    "        print(\"You said: \" + r.recognize_google(audio))\n",
    "        translation = translator.translate(r.recognize_google(audio), dest = 'es')\n",
    "        print(translation.text)\n",
    "\n",
    "    except sr.UnknownValueError:\n",
    "        print(\"Could not understand audio\")\n",
    "    except sr.RequestError as e:\n",
    "        print(\"Could not request results; {0}\".format(e))"
   ]
  },
  {
   "cell_type": "markdown",
   "metadata": {},
   "source": [
    "### Importar archivo"
   ]
  },
  {
   "cell_type": "code",
   "execution_count": 3,
   "metadata": {},
   "outputs": [],
   "source": [
    "#path = 'C:/Users/HP/Desktop/PythonCode/Transcripcion de audio/Traduccion/'\n",
    "#filename = 'texto.txt'\n",
    "#data = open(path+filename, 'r')"
   ]
  },
  {
   "cell_type": "markdown",
   "metadata": {},
   "source": [
    "### Traducir texto"
   ]
  },
  {
   "cell_type": "code",
   "execution_count": 4,
   "metadata": {},
   "outputs": [],
   "source": [
    "#translator = Translator()\n",
    "\n",
    "#translation1 = translator.translate('안녕하세요.', dest = 'es')\n",
    "#print(translation1)\n",
    "\n",
    "#translations = translator.translate(['The quick brown fox', 'jumps over', 'the lazy dog'], dest='es')\n",
    "#for translation in translations:\n",
    "#    print(translation.origin, ' -> ', translation.text)"
   ]
  },
  {
   "cell_type": "markdown",
   "metadata": {},
   "source": [
    "### Traducir archivo"
   ]
  },
  {
   "cell_type": "code",
   "execution_count": 5,
   "metadata": {},
   "outputs": [],
   "source": [
    "#if data.mode == 'r':\n",
    "#    contents = data.read()\n",
    "#    print(contents)\n",
    "#print('\\n\\n\\n\\n')\n",
    "#result = translator.translate(contents, dest='es')\n",
    "#print(result.text)"
   ]
  }
 ],
 "metadata": {
  "kernelspec": {
   "display_name": "Python 3",
   "language": "python",
   "name": "python3"
  },
  "language_info": {
   "codemirror_mode": {
    "name": "ipython",
    "version": 3
   },
   "file_extension": ".py",
   "mimetype": "text/x-python",
   "name": "python",
   "nbconvert_exporter": "python",
   "pygments_lexer": "ipython3",
   "version": "3.7.4"
  }
 },
 "nbformat": 4,
 "nbformat_minor": 4
}
